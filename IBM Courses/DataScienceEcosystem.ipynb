{
 "cells": [
  {
   "cell_type": "markdown",
   "id": "34c03d93-800b-4882-8f9d-532df1b8f82e",
   "metadata": {},
   "source": [
    "# Data Science Tools and Ecosystem"
   ]
  },
  {
   "cell_type": "markdown",
   "id": "f15e7056-bb13-4ab3-a178-5f866bf5f211",
   "metadata": {},
   "source": [
    "## Author \n",
    "Nicolas Bachiloglu"
   ]
  },
  {
   "cell_type": "markdown",
   "id": "6c97c57a-84e4-44be-b883-72f032d5b3d3",
   "metadata": {},
   "source": [
    "Data Science tools will be listed in this notebook."
   ]
  },
  {
   "cell_type": "markdown",
   "id": "5b19e215-d6a1-4058-99aa-daac82ed9346",
   "metadata": {},
   "source": [
    "**Objectives:**\n",
    "- List popular programming languages for data science\n",
    "- List commonly used libraries used in data science\n",
    "- List open-source development environments\n",
    "- Markdown formatting in a Jupyter notebook\n",
    "- Code comments and operations"
   ]
  },
  {
   "cell_type": "markdown",
   "id": "feb8b39b-3359-4405-9d11-bcbef40e7f2f",
   "metadata": {},
   "source": [
    "Some of the most popular languages used in data science are:\n",
    "1. Python\n",
    "2. R\n",
    "3. SQL\n",
    "4. Scala\n",
    "5. VBA"
   ]
  },
  {
   "cell_type": "markdown",
   "id": "3e0c81ba-6f96-4438-806e-237bce0682c5",
   "metadata": {},
   "source": [
    "Some examples of libraries used in data science are:\n",
    "1. Pandas\n",
    "2. Seaborn\n",
    "3. Numpy\n",
    "4. scikit-learn"
   ]
  },
  {
   "cell_type": "markdown",
   "id": "ec88af71-737f-4a34-a6b9-857168a6c4fd",
   "metadata": {},
   "source": [
    "|Data Science Tools|\n",
    "|---|\n",
    "|RStudio|\n",
    "|Jupyter Notebook|\n",
    "|Visual Studio Code|"
   ]
  },
  {
   "cell_type": "markdown",
   "id": "34fc67c2-7157-4471-8546-75680c74436e",
   "metadata": {},
   "source": [
    "### Evaluating arithmetical expressions using Python:"
   ]
  },
  {
   "cell_type": "code",
   "execution_count": 3,
   "id": "1ffa90b4-81e0-4845-b3e6-d65d3f555132",
   "metadata": {
    "tags": []
   },
   "outputs": [
    {
     "data": {
      "text/plain": [
       "17"
      ]
     },
     "execution_count": 3,
     "metadata": {},
     "output_type": "execute_result"
    }
   ],
   "source": [
    "# This a simple arithmetic expression to mutiply then add integers\n",
    "(3*4)+5"
   ]
  },
  {
   "cell_type": "code",
   "execution_count": 4,
   "id": "647723ed-2896-44b4-bf14-1160042993f8",
   "metadata": {
    "tags": []
   },
   "outputs": [
    {
     "data": {
      "text/plain": [
       "3.3333333333333335"
      ]
     },
     "execution_count": 4,
     "metadata": {},
     "output_type": "execute_result"
    }
   ],
   "source": [
    "# This will convert 200 minutes to hours by diving by 60\n",
    "200/60"
   ]
  }
 ],
 "metadata": {
  "kernelspec": {
   "display_name": "Python",
   "language": "python",
   "name": "conda-env-python-py"
  },
  "language_info": {
   "codemirror_mode": {
    "name": "ipython",
    "version": 3
   },
   "file_extension": ".py",
   "mimetype": "text/x-python",
   "name": "python",
   "nbconvert_exporter": "python",
   "pygments_lexer": "ipython3",
   "version": "3.7.12"
  }
 },
 "nbformat": 4,
 "nbformat_minor": 5
}
